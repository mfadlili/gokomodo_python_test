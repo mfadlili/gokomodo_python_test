{
 "cells": [
  {
   "cell_type": "code",
   "execution_count": null,
   "metadata": {},
   "outputs": [],
   "source": [
    "from Robot import Robot"
   ]
  },
  {
   "cell_type": "code",
   "execution_count": null,
   "metadata": {},
   "outputs": [],
   "source": [
    "test_data = []\n",
    "with open('test.txt', 'r') as file:\n",
    "    test = file.readlines()\n",
    "    for row in test:\n",
    "        test_data.append(row.strip())"
   ]
  },
  {
   "cell_type": "code",
   "execution_count": null,
   "metadata": {},
   "outputs": [],
   "source": [
    "for order in test_data:\n",
    "    print(order)\n",
    "    r1 = Robot(order)\n",
    "    r1.run()\n",
    "    print('*'*50)"
   ]
  }
 ],
 "metadata": {
  "kernelspec": {
   "display_name": "Python 3.9.7 ('base')",
   "language": "python",
   "name": "python3"
  },
  "language_info": {
   "codemirror_mode": {
    "name": "ipython",
    "version": 3
   },
   "file_extension": ".py",
   "mimetype": "text/x-python",
   "name": "python",
   "nbconvert_exporter": "python",
   "pygments_lexer": "ipython3",
   "version": "3.9.7"
  },
  "orig_nbformat": 4,
  "vscode": {
   "interpreter": {
    "hash": "827ef672cdfaa9c5c7b364eda2b4fd72f7fdb8221c52e737761053b3a748e5ca"
   }
  }
 },
 "nbformat": 4,
 "nbformat_minor": 2
}
